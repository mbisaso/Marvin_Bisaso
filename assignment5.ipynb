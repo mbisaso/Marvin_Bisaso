{
 "cells": [
  {
   "cell_type": "code",
   "execution_count": 65,
   "id": "528f2c35",
   "metadata": {},
   "outputs": [],
   "source": [
    "#Climate Action Data Analysis\n",
    "#Objectives\n",
    "#1.Load and preprocess the dataset\n",
    "#2.Inspect the data for empty values, wrong data types, wrong formats, duplicates and outliers.\n",
    "#3. Analyze the data to find patterns and relationships\n",
    "#4. Visualize the data to understand trends and distributions.\n",
    "#5. Evaluate the model performance using appropriate metrics\n",
    "#6. Identify patterns and correlations\n",
    "#7. Save the cleaned and processed data for future use"
   ]
  },
  {
   "cell_type": "code",
   "execution_count": 66,
   "id": "e039f28f",
   "metadata": {},
   "outputs": [
    {
     "data": {
      "text/plain": [
       "<bound method DataFrame.info of     Sensor_ID        Date Soil_Moisture(%) Soil_pH Temperature(C) Humidity(%)  \\\n",
       "0    SEN-1000  2025-01-01            36.22    6.98           21.3        50.4   \n",
       "1    SEN-1001  2025-01-02            76.55    5.03           23.5        34.3   \n",
       "2    SEN-1002  2025-01-03            61.24    6.52           21.9        54.6   \n",
       "3    SEN-1003  2025-01-04            51.91    6.62           24.0        48.7   \n",
       "4    SEN-1004  2025-01-05            20.92    5.98           19.2        70.6   \n",
       "..        ...         ...              ...     ...            ...         ...   \n",
       "908  SEN-1090  2025-04-01            18.37    7.03           21.0        47.1   \n",
       "909  SEN-1201  2025-07-21            15.89     6.4           30.5        33.3   \n",
       "910  SEN-1309  2025-11-06            28.96    5.04           20.5        47.6   \n",
       "911  SEN-1339  2025-12-06            16.85    6.57           19.3        34.5   \n",
       "912  SEN-1050  2025-02-20            77.87    4.73           18.6        46.2   \n",
       "\n",
       "    Crop_Type Fertilizer_Recommended(kg/ha) Irrigation_Recommended(mm)  \\\n",
       "0    Tomatoes                          67.6                       26.6   \n",
       "1       Wheat                         130.4                        8.3   \n",
       "2    Tomatoes                          36.0                       29.4   \n",
       "3       Maize                          85.8                       19.6   \n",
       "4       Wheat                          75.6                       29.9   \n",
       "..        ...                           ...                        ...   \n",
       "908     Maize                          94.2                        8.0   \n",
       "909  Tomatoes                         108.3                       14.5   \n",
       "910  Tomatoes                          81.1                       12.7   \n",
       "911     Beans                          48.5                       12.7   \n",
       "912     Beans                         136.5                       23.1   \n",
       "\n",
       "    Drone_Image_ID  \n",
       "0         IMG-2000  \n",
       "1         IMG-2001  \n",
       "2         IMG-2002  \n",
       "3         IMG-2003  \n",
       "4         IMG-2004  \n",
       "..             ...  \n",
       "908       IMG-2090  \n",
       "909       IMG-2201  \n",
       "910       IMG-2309  \n",
       "911       IMG-2339  \n",
       "912       IMG-2050  \n",
       "\n",
       "[913 rows x 10 columns]>"
      ]
     },
     "execution_count": 66,
     "metadata": {},
     "output_type": "execute_result"
    }
   ],
   "source": [
    "import pandas as pd\n",
    "import numpy as np\n",
    "import matplotlib.pyplot as plt\n",
    "import seaborn as sns\n",
    "\n",
    "df = pd.read_csv('climate_action_data.csv')\n",
    "df.info\n"
   ]
  },
  {
   "cell_type": "code",
   "execution_count": 67,
   "id": "53bd80bb",
   "metadata": {},
   "outputs": [
    {
     "data": {
      "text/html": [
       "<div>\n",
       "<style scoped>\n",
       "    .dataframe tbody tr th:only-of-type {\n",
       "        vertical-align: middle;\n",
       "    }\n",
       "\n",
       "    .dataframe tbody tr th {\n",
       "        vertical-align: top;\n",
       "    }\n",
       "\n",
       "    .dataframe thead th {\n",
       "        text-align: right;\n",
       "    }\n",
       "</style>\n",
       "<table border=\"1\" class=\"dataframe\">\n",
       "  <thead>\n",
       "    <tr style=\"text-align: right;\">\n",
       "      <th></th>\n",
       "      <th>Sensor_ID</th>\n",
       "      <th>Date</th>\n",
       "      <th>Soil_Moisture(%)</th>\n",
       "      <th>Soil_pH</th>\n",
       "      <th>Temperature(C)</th>\n",
       "      <th>Humidity(%)</th>\n",
       "      <th>Crop_Type</th>\n",
       "      <th>Fertilizer_Recommended(kg/ha)</th>\n",
       "      <th>Irrigation_Recommended(mm)</th>\n",
       "      <th>Drone_Image_ID</th>\n",
       "    </tr>\n",
       "  </thead>\n",
       "  <tbody>\n",
       "    <tr>\n",
       "      <th>0</th>\n",
       "      <td>SEN-1000</td>\n",
       "      <td>2025-01-01</td>\n",
       "      <td>36.22</td>\n",
       "      <td>6.98</td>\n",
       "      <td>21.3</td>\n",
       "      <td>50.4</td>\n",
       "      <td>Tomatoes</td>\n",
       "      <td>67.6</td>\n",
       "      <td>26.6</td>\n",
       "      <td>IMG-2000</td>\n",
       "    </tr>\n",
       "    <tr>\n",
       "      <th>1</th>\n",
       "      <td>SEN-1001</td>\n",
       "      <td>2025-01-02</td>\n",
       "      <td>76.55</td>\n",
       "      <td>5.03</td>\n",
       "      <td>23.5</td>\n",
       "      <td>34.3</td>\n",
       "      <td>Wheat</td>\n",
       "      <td>130.4</td>\n",
       "      <td>8.3</td>\n",
       "      <td>IMG-2001</td>\n",
       "    </tr>\n",
       "    <tr>\n",
       "      <th>2</th>\n",
       "      <td>SEN-1002</td>\n",
       "      <td>2025-01-03</td>\n",
       "      <td>61.24</td>\n",
       "      <td>6.52</td>\n",
       "      <td>21.9</td>\n",
       "      <td>54.6</td>\n",
       "      <td>Tomatoes</td>\n",
       "      <td>36.0</td>\n",
       "      <td>29.4</td>\n",
       "      <td>IMG-2002</td>\n",
       "    </tr>\n",
       "    <tr>\n",
       "      <th>3</th>\n",
       "      <td>SEN-1003</td>\n",
       "      <td>2025-01-04</td>\n",
       "      <td>51.91</td>\n",
       "      <td>6.62</td>\n",
       "      <td>24.0</td>\n",
       "      <td>48.7</td>\n",
       "      <td>Maize</td>\n",
       "      <td>85.8</td>\n",
       "      <td>19.6</td>\n",
       "      <td>IMG-2003</td>\n",
       "    </tr>\n",
       "    <tr>\n",
       "      <th>4</th>\n",
       "      <td>SEN-1004</td>\n",
       "      <td>2025-01-05</td>\n",
       "      <td>20.92</td>\n",
       "      <td>5.98</td>\n",
       "      <td>19.2</td>\n",
       "      <td>70.6</td>\n",
       "      <td>Wheat</td>\n",
       "      <td>75.6</td>\n",
       "      <td>29.9</td>\n",
       "      <td>IMG-2004</td>\n",
       "    </tr>\n",
       "    <tr>\n",
       "      <th>5</th>\n",
       "      <td>SEN-1005</td>\n",
       "      <td>2025-01-06</td>\n",
       "      <td>20.92</td>\n",
       "      <td>7.08</td>\n",
       "      <td>26.8</td>\n",
       "      <td>66.3</td>\n",
       "      <td>Beans</td>\n",
       "      <td>68.0</td>\n",
       "      <td>27.8</td>\n",
       "      <td>IMG-2005</td>\n",
       "    </tr>\n",
       "    <tr>\n",
       "      <th>6</th>\n",
       "      <td>SEN-1006</td>\n",
       "      <td>2025-01-07</td>\n",
       "      <td>14.07</td>\n",
       "      <td>7.77</td>\n",
       "      <td>19.1</td>\n",
       "      <td>51.9</td>\n",
       "      <td>Maize</td>\n",
       "      <td>64.3</td>\n",
       "      <td>10.5</td>\n",
       "      <td>IMG-2006</td>\n",
       "    </tr>\n",
       "    <tr>\n",
       "      <th>7</th>\n",
       "      <td>SEN-1007</td>\n",
       "      <td>2025-01-08</td>\n",
       "      <td>70.63</td>\n",
       "      <td>7.74</td>\n",
       "      <td>31.6</td>\n",
       "      <td>43.1</td>\n",
       "      <td>Lettuce</td>\n",
       "      <td>41.0</td>\n",
       "      <td>6.4</td>\n",
       "      <td>IMG-2007</td>\n",
       "    </tr>\n",
       "    <tr>\n",
       "      <th>8</th>\n",
       "      <td>SEN-1008</td>\n",
       "      <td>2025-01-09</td>\n",
       "      <td>52.08</td>\n",
       "      <td>6.08</td>\n",
       "      <td>22.0</td>\n",
       "      <td>89.3</td>\n",
       "      <td>Tomatoes</td>\n",
       "      <td>67.8</td>\n",
       "      <td>11.4</td>\n",
       "      <td>IMG-2008</td>\n",
       "    </tr>\n",
       "    <tr>\n",
       "      <th>9</th>\n",
       "      <td>SEN-1009</td>\n",
       "      <td>2025-01-10</td>\n",
       "      <td>59.57</td>\n",
       "      <td>4.9</td>\n",
       "      <td>27.2</td>\n",
       "      <td>57.2</td>\n",
       "      <td>Maize</td>\n",
       "      <td>35.2</td>\n",
       "      <td>18.2</td>\n",
       "      <td>IMG-2009</td>\n",
       "    </tr>\n",
       "  </tbody>\n",
       "</table>\n",
       "</div>"
      ],
      "text/plain": [
       "  Sensor_ID        Date Soil_Moisture(%) Soil_pH Temperature(C) Humidity(%)  \\\n",
       "0  SEN-1000  2025-01-01            36.22    6.98           21.3        50.4   \n",
       "1  SEN-1001  2025-01-02            76.55    5.03           23.5        34.3   \n",
       "2  SEN-1002  2025-01-03            61.24    6.52           21.9        54.6   \n",
       "3  SEN-1003  2025-01-04            51.91    6.62           24.0        48.7   \n",
       "4  SEN-1004  2025-01-05            20.92    5.98           19.2        70.6   \n",
       "5  SEN-1005  2025-01-06            20.92    7.08           26.8        66.3   \n",
       "6  SEN-1006  2025-01-07            14.07    7.77           19.1        51.9   \n",
       "7  SEN-1007  2025-01-08            70.63    7.74           31.6        43.1   \n",
       "8  SEN-1008  2025-01-09            52.08    6.08           22.0        89.3   \n",
       "9  SEN-1009  2025-01-10            59.57     4.9           27.2        57.2   \n",
       "\n",
       "  Crop_Type Fertilizer_Recommended(kg/ha) Irrigation_Recommended(mm)  \\\n",
       "0  Tomatoes                          67.6                       26.6   \n",
       "1     Wheat                         130.4                        8.3   \n",
       "2  Tomatoes                          36.0                       29.4   \n",
       "3     Maize                          85.8                       19.6   \n",
       "4     Wheat                          75.6                       29.9   \n",
       "5     Beans                          68.0                       27.8   \n",
       "6     Maize                          64.3                       10.5   \n",
       "7   Lettuce                          41.0                        6.4   \n",
       "8  Tomatoes                          67.8                       11.4   \n",
       "9     Maize                          35.2                       18.2   \n",
       "\n",
       "  Drone_Image_ID  \n",
       "0       IMG-2000  \n",
       "1       IMG-2001  \n",
       "2       IMG-2002  \n",
       "3       IMG-2003  \n",
       "4       IMG-2004  \n",
       "5       IMG-2005  \n",
       "6       IMG-2006  \n",
       "7       IMG-2007  \n",
       "8       IMG-2008  \n",
       "9       IMG-2009  "
      ]
     },
     "execution_count": 67,
     "metadata": {},
     "output_type": "execute_result"
    }
   ],
   "source": [
    "df.dtypes\n",
    "df.head(10)"
   ]
  },
  {
   "cell_type": "code",
   "execution_count": 68,
   "id": "fbebe604",
   "metadata": {},
   "outputs": [
    {
     "name": "stdout",
     "output_type": "stream",
     "text": [
      "Number of duplicate rows:\n"
     ]
    },
    {
     "data": {
      "text/plain": [
       "np.int64(111)"
      ]
     },
     "execution_count": 68,
     "metadata": {},
     "output_type": "execute_result"
    }
   ],
   "source": [
    "print('Number of duplicate rows:')\n",
    "df.duplicated().sum()\n"
   ]
  },
  {
   "cell_type": "code",
   "execution_count": 69,
   "id": "2544aaec",
   "metadata": {},
   "outputs": [
    {
     "name": "stdout",
     "output_type": "stream",
     "text": [
      "Number of rows after removing duplicates: (802, 10)\n"
     ]
    },
    {
     "data": {
      "text/plain": [
       "np.int64(0)"
      ]
     },
     "execution_count": 69,
     "metadata": {},
     "output_type": "execute_result"
    }
   ],
   "source": [
    "df = df.drop_duplicates()\n",
    "print('Number of rows after removing duplicates:', df.shape)\n",
    "df.duplicated().sum()"
   ]
  },
  {
   "cell_type": "code",
   "execution_count": 70,
   "id": "a30fef7a",
   "metadata": {},
   "outputs": [
    {
     "name": "stdout",
     "output_type": "stream",
     "text": [
      "Missing values per column:\n"
     ]
    },
    {
     "data": {
      "text/plain": [
       "Sensor_ID                        0\n",
       "Date                             4\n",
       "Soil_Moisture(%)                 0\n",
       "Soil_pH                          0\n",
       "Temperature(C)                   0\n",
       "Humidity(%)                      0\n",
       "Crop_Type                        4\n",
       "Fertilizer_Recommended(kg/ha)    0\n",
       "Irrigation_Recommended(mm)       0\n",
       "Drone_Image_ID                   0\n",
       "dtype: int64"
      ]
     },
     "execution_count": 70,
     "metadata": {},
     "output_type": "execute_result"
    }
   ],
   "source": [
    "#handling missing values\n",
    "print('Missing values per column:')\n",
    "df.isnull().sum()\n"
   ]
  },
  {
   "cell_type": "code",
   "execution_count": 71,
   "id": "83ad88d0",
   "metadata": {},
   "outputs": [
    {
     "name": "stdout",
     "output_type": "stream",
     "text": [
      "Missing values after handling:\n",
      "Sensor_ID                        0\n",
      "Date                             4\n",
      "Soil_Moisture(%)                 0\n",
      "Soil_pH                          0\n",
      "Temperature(C)                   0\n",
      "Humidity(%)                      0\n",
      "Crop_Type                        0\n",
      "Fertilizer_Recommended(kg/ha)    0\n",
      "Irrigation_Recommended(mm)       0\n",
      "Drone_Image_ID                   0\n",
      "dtype: int64\n"
     ]
    },
    {
     "name": "stderr",
     "output_type": "stream",
     "text": [
      "C:\\Users\\PC 12\\AppData\\Local\\Temp\\ipykernel_8220\\1509540989.py:5: SettingWithCopyWarning: \n",
      "A value is trying to be set on a copy of a slice from a DataFrame.\n",
      "Try using .loc[row_indexer,col_indexer] = value instead\n",
      "\n",
      "See the caveats in the documentation: https://pandas.pydata.org/pandas-docs/stable/user_guide/indexing.html#returning-a-view-versus-a-copy\n",
      "  df[col] = df[col].fillna(df[col].mode()[0])   #filling the null values with the mode of the column\n"
     ]
    }
   ],
   "source": [
    "#for categorical columns\n",
    "categorical_cols = ['Crop_Type']\n",
    "for col in categorical_cols:\n",
    "    if col in df.columns:\n",
    "        df[col] = df[col].fillna(df[col].mode()[0])   #filling the null values with the mode of the column\n",
    "\n",
    "print('Missing values after handling:')\n",
    "print(df.isnull().sum())"
   ]
  },
  {
   "cell_type": "code",
   "execution_count": 72,
   "id": "095c69d7",
   "metadata": {},
   "outputs": [
    {
     "name": "stdout",
     "output_type": "stream",
     "text": [
      "Missing values after all cleaning:\n",
      "Sensor_ID                        0\n",
      "Date                             4\n",
      "Soil_Moisture(%)                 0\n",
      "Soil_pH                          0\n",
      "Temperature(C)                   0\n",
      "Humidity(%)                      0\n",
      "Crop_Type                        0\n",
      "Fertilizer_Recommended(kg/ha)    0\n",
      "Irrigation_Recommended(mm)       0\n",
      "Drone_Image_ID                   0\n",
      "dtype: int64\n"
     ]
    },
    {
     "name": "stderr",
     "output_type": "stream",
     "text": [
      "C:\\Users\\PC 12\\AppData\\Local\\Temp\\ipykernel_8220\\193128966.py:3: SettingWithCopyWarning: \n",
      "A value is trying to be set on a copy of a slice from a DataFrame.\n",
      "Try using .loc[row_indexer,col_indexer] = value instead\n",
      "\n",
      "See the caveats in the documentation: https://pandas.pydata.org/pandas-docs/stable/user_guide/indexing.html#returning-a-view-versus-a-copy\n",
      "  df['Date'] = pd.to_datetime(df['Date'], errors='coerce')\n"
     ]
    }
   ],
   "source": [
    "#wrong data\n",
    "#convert 'Date' column to datetimeformat\n",
    "df['Date'] = pd.to_datetime(df['Date'], errors='coerce')\n",
    "\n",
    "# Check empty values again\n",
    "print(\"Missing values after all cleaning:\")\n",
    "print(df.isnull().sum())\n",
    "\n",
    "\n"
   ]
  },
  {
   "cell_type": "code",
   "execution_count": 83,
   "id": "465d509e",
   "metadata": {},
   "outputs": [
    {
     "data": {
      "text/html": [
       "<div>\n",
       "<style scoped>\n",
       "    .dataframe tbody tr th:only-of-type {\n",
       "        vertical-align: middle;\n",
       "    }\n",
       "\n",
       "    .dataframe tbody tr th {\n",
       "        vertical-align: top;\n",
       "    }\n",
       "\n",
       "    .dataframe thead th {\n",
       "        text-align: right;\n",
       "    }\n",
       "</style>\n",
       "<table border=\"1\" class=\"dataframe\">\n",
       "  <thead>\n",
       "    <tr style=\"text-align: right;\">\n",
       "      <th></th>\n",
       "      <th>Date</th>\n",
       "      <th>Soil_Moisture(%)</th>\n",
       "      <th>Soil_pH</th>\n",
       "      <th>Temperature(C)</th>\n",
       "      <th>Humidity(%)</th>\n",
       "    </tr>\n",
       "  </thead>\n",
       "  <tbody>\n",
       "    <tr>\n",
       "      <th>count</th>\n",
       "      <td>798</td>\n",
       "      <td>797.000000</td>\n",
       "      <td>797.000000</td>\n",
       "      <td>797.000000</td>\n",
       "      <td>797.000000</td>\n",
       "    </tr>\n",
       "    <tr>\n",
       "      <th>mean</th>\n",
       "      <td>2026-02-04 07:45:33.834586624</td>\n",
       "      <td>44.763726</td>\n",
       "      <td>6.248795</td>\n",
       "      <td>26.460602</td>\n",
       "      <td>60.037265</td>\n",
       "    </tr>\n",
       "    <tr>\n",
       "      <th>min</th>\n",
       "      <td>2025-01-01 00:00:00</td>\n",
       "      <td>10.350000</td>\n",
       "      <td>4.520000</td>\n",
       "      <td>18.000000</td>\n",
       "      <td>30.000000</td>\n",
       "    </tr>\n",
       "    <tr>\n",
       "      <th>25%</th>\n",
       "      <td>2025-07-19 06:00:00</td>\n",
       "      <td>26.930000</td>\n",
       "      <td>5.320000</td>\n",
       "      <td>22.300000</td>\n",
       "      <td>45.900000</td>\n",
       "    </tr>\n",
       "    <tr>\n",
       "      <th>50%</th>\n",
       "      <td>2026-02-03 12:00:00</td>\n",
       "      <td>45.410000</td>\n",
       "      <td>6.260000</td>\n",
       "      <td>26.600000</td>\n",
       "      <td>59.600000</td>\n",
       "    </tr>\n",
       "    <tr>\n",
       "      <th>75%</th>\n",
       "      <td>2026-08-23 18:00:00</td>\n",
       "      <td>62.670000</td>\n",
       "      <td>7.080000</td>\n",
       "      <td>30.600000</td>\n",
       "      <td>75.300000</td>\n",
       "    </tr>\n",
       "    <tr>\n",
       "      <th>max</th>\n",
       "      <td>2027-03-11 00:00:00</td>\n",
       "      <td>79.980000</td>\n",
       "      <td>8.000000</td>\n",
       "      <td>35.000000</td>\n",
       "      <td>89.900000</td>\n",
       "    </tr>\n",
       "    <tr>\n",
       "      <th>std</th>\n",
       "      <td>NaN</td>\n",
       "      <td>20.524828</td>\n",
       "      <td>1.024776</td>\n",
       "      <td>4.878540</td>\n",
       "      <td>17.470601</td>\n",
       "    </tr>\n",
       "  </tbody>\n",
       "</table>\n",
       "</div>"
      ],
      "text/plain": [
       "                                Date  Soil_Moisture(%)     Soil_pH  \\\n",
       "count                            798        797.000000  797.000000   \n",
       "mean   2026-02-04 07:45:33.834586624         44.763726    6.248795   \n",
       "min              2025-01-01 00:00:00         10.350000    4.520000   \n",
       "25%              2025-07-19 06:00:00         26.930000    5.320000   \n",
       "50%              2026-02-03 12:00:00         45.410000    6.260000   \n",
       "75%              2026-08-23 18:00:00         62.670000    7.080000   \n",
       "max              2027-03-11 00:00:00         79.980000    8.000000   \n",
       "std                              NaN         20.524828    1.024776   \n",
       "\n",
       "       Temperature(C)  Humidity(%)  \n",
       "count      797.000000   797.000000  \n",
       "mean        26.460602    60.037265  \n",
       "min         18.000000    30.000000  \n",
       "25%         22.300000    45.900000  \n",
       "50%         26.600000    59.600000  \n",
       "75%         30.600000    75.300000  \n",
       "max         35.000000    89.900000  \n",
       "std          4.878540    17.470601  "
      ]
     },
     "execution_count": 83,
     "metadata": {},
     "output_type": "execute_result"
    }
   ],
   "source": [
    "#Descriptive statistics\n",
    "df.describe()"
   ]
  },
  {
   "cell_type": "code",
   "execution_count": 74,
   "id": "ad0533c2",
   "metadata": {},
   "outputs": [
    {
     "data": {
      "text/plain": [
       "(802, 10)"
      ]
     },
     "execution_count": 74,
     "metadata": {},
     "output_type": "execute_result"
    }
   ],
   "source": [
    "df.shape\n",
    "\n"
   ]
  },
  {
   "cell_type": "code",
   "execution_count": 75,
   "id": "14c4d41c",
   "metadata": {},
   "outputs": [
    {
     "data": {
      "image/png": "[encoded data removed]",
      "text/plain": [
       "<Figure size 1500x1000 with 1 Axes>"
      ]
     },
     "metadata": {},
     "output_type": "display_data"
    }
   ],
   "source": [
    "#histogram\n",
    "#Histogram for 'Temperature'\n",
    "plt.figure(figsize=(15,10))\n",
    "sns.histplot(df['Temperature(C)'], bins=30,kde=True)\n",
    "plt.title('Temperature Distribution')\n",
    "plt.show()"
   ]
  },
  {
   "cell_type": "code",
   "execution_count": 76,
   "id": "18b45ed1",
   "metadata": {},
   "outputs": [
    {
     "data": {
      "image/png": "[encoded data removed]",
      "text/plain": [
       "<Figure size 640x480 with 1 Axes>"
      ]
     },
     "metadata": {},
     "output_type": "display_data"
    }
   ],
   "source": [
    "#histogram for soil_pH\n",
    "sns.histplot(df['Soil_pH'], bins=30,kde=True)\n",
    "plt.title('Soil_pH Distribution')\n",
    "plt.show()"
   ]
  },
  {
   "cell_type": "code",
   "execution_count": 77,
   "id": "f6195c23",
   "metadata": {},
   "outputs": [
    {
     "name": "stderr",
     "output_type": "stream",
     "text": [
      "C:\\Users\\PC 12\\AppData\\Local\\Temp\\ipykernel_8220\\2096139556.py:2: SettingWithCopyWarning: \n",
      "A value is trying to be set on a copy of a slice from a DataFrame.\n",
      "Try using .loc[row_indexer,col_indexer] = value instead\n",
      "\n",
      "See the caveats in the documentation: https://pandas.pydata.org/pandas-docs/stable/user_guide/indexing.html#returning-a-view-versus-a-copy\n",
      "  df['Soil_Moisture(%)'] = pd.to_numeric(df['Soil_Moisture(%)'], errors='coerce')\n",
      "C:\\Users\\PC 12\\AppData\\Local\\Temp\\ipykernel_8220\\2096139556.py:3: SettingWithCopyWarning: \n",
      "A value is trying to be set on a copy of a slice from a DataFrame.\n",
      "Try using .loc[row_indexer,col_indexer] = value instead\n",
      "\n",
      "See the caveats in the documentation: https://pandas.pydata.org/pandas-docs/stable/user_guide/indexing.html#returning-a-view-versus-a-copy\n",
      "  df['Soil_pH'] = pd.to_numeric(df['Soil_pH'], errors='coerce')\n",
      "C:\\Users\\PC 12\\AppData\\Local\\Temp\\ipykernel_8220\\2096139556.py:4: SettingWithCopyWarning: \n",
      "A value is trying to be set on a copy of a slice from a DataFrame.\n",
      "Try using .loc[row_indexer,col_indexer] = value instead\n",
      "\n",
      "See the caveats in the documentation: https://pandas.pydata.org/pandas-docs/stable/user_guide/indexing.html#returning-a-view-versus-a-copy\n",
      "  df['Temperature(C)'] = pd.to_numeric(df['Temperature(C)'], errors='coerce')\n",
      "C:\\Users\\PC 12\\AppData\\Local\\Temp\\ipykernel_8220\\2096139556.py:5: SettingWithCopyWarning: \n",
      "A value is trying to be set on a copy of a slice from a DataFrame.\n",
      "Try using .loc[row_indexer,col_indexer] = value instead\n",
      "\n",
      "See the caveats in the documentation: https://pandas.pydata.org/pandas-docs/stable/user_guide/indexing.html#returning-a-view-versus-a-copy\n",
      "  df['Humidity(%)'] = pd.to_numeric(df['Humidity(%)'], errors='coerce')\n"
     ]
    }
   ],
   "source": [
    "#convert necessary data types\n",
    "df['Soil_Moisture(%)'] = pd.to_numeric(df['Soil_Moisture(%)'], errors='coerce')\n",
    "df['Soil_pH'] = pd.to_numeric(df['Soil_pH'], errors='coerce')\n",
    "df['Temperature(C)'] = pd.to_numeric(df['Temperature(C)'], errors='coerce')\n",
    "df['Humidity(%)'] = pd.to_numeric(df['Humidity(%)'], errors='coerce')"
   ]
  },
  {
   "cell_type": "code",
   "execution_count": 80,
   "id": "8314f65d",
   "metadata": {},
   "outputs": [
    {
     "data": {
      "image/png": "[encoded data removed]",
      "text/plain": [
       "<Figure size 1000x1000 with 2 Axes>"
      ]
     },
     "metadata": {},
     "output_type": "display_data"
    }
   ],
   "source": [
    "#Correlation heat map\n",
    "corr_matrix = df[['Soil_pH','Soil_Moisture(%)','Temperature(C)','Humidity(%)']].corr()\n",
    "\n",
    "plt.figure(figsize=(10,10))\n",
    "sns.heatmap(corr_matrix, annot=True, cmap='coolwarm',fmt='.2f')\n",
    "plt.title('Correlation Heat Map')\n",
    "plt.show()"
   ]
  },
  {
   "cell_type": "code",
   "execution_count": 82,
   "id": "99e3c900",
   "metadata": {},
   "outputs": [
    {
     "data": {
      "text/plain": [
       "Crop_Type\n",
       "Wheat       47.368857\n",
       "Maize       44.952078\n",
       "Beans       44.389139\n",
       "Tomatoes    43.809760\n",
       "Lettuce     42.970200\n",
       "Name: Soil_Moisture(%), dtype: float64"
      ]
     },
     "execution_count": 82,
     "metadata": {},
     "output_type": "execute_result"
    }
   ],
   "source": [
    "#crop_type with the highest average soil moisture\n",
    "\n",
    "df.groupby('Crop_Type')['Soil_Moisture(%)'].mean().sort_values(ascending=False)\n"
   ]
  },
  {
   "cell_type": "code",
   "execution_count": 85,
   "id": "7a640c91",
   "metadata": {},
   "outputs": [
    {
     "name": "stderr",
     "output_type": "stream",
     "text": [
      "C:\\Users\\PC 12\\AppData\\Local\\Temp\\ipykernel_8220\\2507773275.py:2: SettingWithCopyWarning: \n",
      "A value is trying to be set on a copy of a slice from a DataFrame.\n",
      "Try using .loc[row_indexer,col_indexer] = value instead\n",
      "\n",
      "See the caveats in the documentation: https://pandas.pydata.org/pandas-docs/stable/user_guide/indexing.html#returning-a-view-versus-a-copy\n",
      "  df['Irrigation_Recommended(mm)'] = pd.to_numeric(df['Irrigation_Recommended(mm)'], errors='coerce')\n"
     ]
    },
    {
     "data": {
      "text/plain": [
       "Crop_Type\n",
       "Beans       17.857692\n",
       "Lettuce     16.297297\n",
       "Maize       16.625455\n",
       "Tomatoes    18.919565\n",
       "Wheat       18.645946\n",
       "Name: Irrigation_Recommended(mm), dtype: float64"
      ]
     },
     "execution_count": 85,
     "metadata": {},
     "output_type": "execute_result"
    }
   ],
   "source": [
    "#appropriate irrigation adjustments for crops experiencing average temperature above 30C\n",
    "df['Irrigation_Recommended(mm)'] = pd.to_numeric(df['Irrigation_Recommended(mm)'], errors='coerce')\n",
    "\n",
    "df[df['Temperature(C)'] > 30].groupby('Crop_Type')['Irrigation_Recommended(mm)'].mean()"
   ]
  },
  {
   "cell_type": "code",
   "execution_count": null,
   "id": "a6d64ec4",
   "metadata": {},
   "outputs": [],
   "source": [
    "#key insights\n",
    "#1.The dataset has been cleaned and preprocessed with missing values handled\n",
    "#2.The correlation analysis shows each environmental factor appears to vary independently of the others\n",
    "#3.The cleaned and processed data is ready for future analysis or modelling.\n",
    "#4.The data is in a suitable format for analysis and modelling.\n",
    "\n",
    "#Recommendations\n",
    "# 1.Model Improvement:Explore more advanced machine learning models or deep learning techniques to improve Irrigation and Fertilizer Recommendations \n",
    "# 2. Data Enrichment: Collect more data on weather patterns and soil types\n",
    "# 3. Feature Engineering: Extract more relevant features from the existing data to improve model performance.\n",
    "# 4. Time Series Analysis: Implement time series analysis techniques to capture trends and seasonality in the data.\n",
    "# 5. Model Deployment: Deploy the model in a production-ready environment for real-time predictions.\n",
    "\n"
   ]
  },
  {
   "cell_type": "code",
   "execution_count": 86,
   "id": "ca6806ce",
   "metadata": {},
   "outputs": [],
   "source": [
    "#exporting the cleaned data\n",
    "df.to_csv('cleaned_precision_agriculture_data.csv',index=False)\n"
   ]
  }
 ],
 "metadata": {
  "kernelspec": {
   "display_name": "Python 3",
   "language": "python",
   "name": "python3"
  },
  "language_info": {
   "codemirror_mode": {
    "name": "ipython",
    "version": 3
   },
   "file_extension": ".py",
   "mimetype": "text/x-python",
   "name": "python",
   "nbconvert_exporter": "python",
   "pygments_lexer": "ipython3",
   "version": "3.11.9"
  }
 },
 "nbformat": 4,
 "nbformat_minor": 5
}
